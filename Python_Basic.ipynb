{
  "nbformat": 4,
  "nbformat_minor": 0,
  "metadata": {
    "colab": {
      "provenance": []
    },
    "kernelspec": {
      "name": "python3",
      "display_name": "Python 3"
    },
    "language_info": {
      "name": "python"
    }
  },
  "cells": [
    {
      "cell_type": "markdown",
      "source": [
        "# Python basic"
      ],
      "metadata": {
        "id": "g-x5VujixWKy"
      }
    },
    {
      "cell_type": "markdown",
      "source": [
        "1. What is Python, and why is it popular ?\n",
        "   - Python are computer language and it is popular bcz high-level language,easily approach in this language and easily learnt.\n",
        "2. What is an interpreter in Python ?\n",
        "   - Interpreter in python various variable have used in codes and create project.\n",
        "3. What are pre-defined keywords in Python ?\n",
        "   - Before code have used pre-defined keywords then easily to code anything but have no used keywords for pre-defined then not code have executed.\n",
        "4. Can keywords be used as variable names ?\n",
        "   - Such as print,list,range,while,else,if,bin,(),{} have many used before in pre-defined keywords.\n",
        "5. What is mutability in Python ?\n",
        "   - Mutability are used in python those range, fxns, add^n, sub^n, muli^n, div^n used in print() this is meaning for work in python.\n",
        "6. Why are lists mutuable, but tuples are immutuable ?\n",
        "   - same before ques^n have explained answered is mutuable and immuable means wrong print() this bracket in the shell for example add^n and sub^n used in bracket that's wrong are the immutuable.\n",
        "7. What is the difference between “==” and “is” operators in Python ?\n",
        "   - \"==\" that means compared and \"is\" not remember probably let's next step.\n",
        "8. What are logical operators in Python ?\n",
        "   - That's logical operators in python have commanded many variables have logic such as print() means executed, range(, , ,) means digits are immpleted and many logical operators have used.\n",
        "9. What is type casting in Python ?\n",
        "   - Type casting is float, integer, string used in codes help.\n",
        "10. What is the difference between implicit and explicit type casting ?\n",
        "   - Implicit are input and explicit are output used codes.\n",
        "11.  What is the purpose of conditional statements in Python ?\n",
        "   - They purpose of conditional statements are 'if' , 'else' , 'elif' many keywords have used in conditional statement.\n",
        "12. How does the elif statement work ?\n",
        "   - The elif imerge in 'if' and 'else' and elif statement works in prompt then print and then else used have executed my prompt.\n",
        "13. What is the difference between for and while loops ?\n",
        "   - for used in prompt and while used in executed.\n",
        "14. Describe a scenario where a while loop is more suitable than a for loop.\n",
        "   - while loop have easily executed of prompt and define us and loop are not defined my prompt.\n",
        "                                    "
      ],
      "metadata": {
        "id": "rFsPvbKIdFXe"
      }
    },
    {
      "cell_type": "code",
      "source": [
        "# Write a Python program to print \"Hello, World!\"\n",
        "'''\n",
        "print('hello world')\n",
        "'''"
      ],
      "metadata": {
        "id": "CJo2kJj4-e2z",
        "colab": {
          "base_uri": "https://localhost:8080/",
          "height": 36
        },
        "outputId": "2774bf2a-9bb5-408d-fb8c-248f7688b6f6"
      },
      "execution_count": null,
      "outputs": [
        {
          "output_type": "execute_result",
          "data": {
            "text/plain": [
              "\"\\nprint('hello world')\\n\""
            ],
            "application/vnd.google.colaboratory.intrinsic+json": {
              "type": "string"
            }
          },
          "metadata": {},
          "execution_count": 1
        }
      ]
    },
    {
      "cell_type": "code",
      "source": [
        "#  Write a Python program that displays your name and age.\n",
        "'''\n",
        "Name=input(my name is valid)\n",
        "Age=input(my age is valid)\n",
        "print(Name,Age)\n",
        "'''"
      ],
      "metadata": {
        "colab": {
          "base_uri": "https://localhost:8080/",
          "height": 36
        },
        "id": "kse_gXVRMA2i",
        "outputId": "97cca327-da2c-4465-9e8c-dcdcfda0b03c"
      },
      "execution_count": null,
      "outputs": [
        {
          "output_type": "execute_result",
          "data": {
            "text/plain": [
              "'\\nName=input(my name is valid)\\nAge=input(my age is valid)\\nprint(Name,Age)\\n'"
            ],
            "application/vnd.google.colaboratory.intrinsic+json": {
              "type": "string"
            }
          },
          "metadata": {},
          "execution_count": 2
        }
      ]
    },
    {
      "cell_type": "code",
      "source": [
        "# Write code to print all the pre-defined keywords in Python using the keyword library.\n",
        "'''\n",
        "import keyword\n",
        "\n",
        "print(keyword.kwlist)\n",
        "'''"
      ],
      "metadata": {
        "colab": {
          "base_uri": "https://localhost:8080/",
          "height": 36
        },
        "id": "wM7vmF9sMWp6",
        "outputId": "1cabad0c-26ac-415c-f1ce-578deac71581"
      },
      "execution_count": null,
      "outputs": [
        {
          "output_type": "execute_result",
          "data": {
            "text/plain": [
              "'\\nimport keyword\\n\\nprint(keyword.kwlist)\\n'"
            ],
            "application/vnd.google.colaboratory.intrinsic+json": {
              "type": "string"
            }
          },
          "metadata": {},
          "execution_count": 25
        }
      ]
    },
    {
      "cell_type": "code",
      "source": [
        "# Write a program that checks if a given word is a Python keyword.\n",
        "'''\n",
        "import keyword\n",
        "\n",
        "word = input(\"Enter a word: \")\n",
        "\n",
        "if keyword.iskeyword(word):\n",
        "    print(f\"{word} is a Python keyword.\")\n",
        "else:\n",
        "    print(f\"{word} is not a Python keyword.\")\n",
        "    '''"
      ],
      "metadata": {
        "colab": {
          "base_uri": "https://localhost:8080/",
          "height": 53
        },
        "id": "i2OP6LIXM196",
        "outputId": "121a5079-af97-41f4-fcd9-322cbbcaeffa"
      },
      "execution_count": null,
      "outputs": [
        {
          "output_type": "execute_result",
          "data": {
            "text/plain": [
              "'\\nimport keyword\\n\\nword = input(\"Enter a word: \")\\n\\nif keyword.iskeyword(word):\\n    print(f\"{word} is a Python keyword.\")\\nelse:\\n    print(f\"{word} is not a Python keyword.\")\\n    '"
            ],
            "application/vnd.google.colaboratory.intrinsic+json": {
              "type": "string"
            }
          },
          "metadata": {},
          "execution_count": 24
        }
      ]
    },
    {
      "cell_type": "code",
      "source": [
        "# Create a list and tuple in Python, and demonstrate how attempting to change an element works differently for each\n",
        "'''\n",
        "list_example = [1, 2, 3, 4, 5]\n",
        "tuple_example = (1, 2, 3, 4, 5)\n",
        "\n",
        "# Demonstrate mutability of lists\n",
        "list_example[0] = 10\n",
        "print(f\"Modified list: {list_example}\")\n",
        "\n",
        "# Demonstrate immutability of tuples\n",
        "try:\n",
        "    tuple_example[0] = 10\n",
        "except TypeError as e:\n",
        "    print(f\"Attempting to modify tuple resulted in error: {e}\")\n",
        "    '''"
      ],
      "metadata": {
        "colab": {
          "base_uri": "https://localhost:8080/",
          "height": 53
        },
        "id": "goqezMyFNshH",
        "outputId": "ea104175-498c-4842-acf6-f6c05122f7ea"
      },
      "execution_count": null,
      "outputs": [
        {
          "output_type": "execute_result",
          "data": {
            "text/plain": [
              "'\\nlist_example = [1, 2, 3, 4, 5]\\ntuple_example = (1, 2, 3, 4, 5)\\n\\n# Demonstrate mutability of lists\\nlist_example[0] = 10\\nprint(f\"Modified list: {list_example}\")\\n\\n# Demonstrate immutability of tuples\\ntry:\\n    tuple_example[0] = 10\\nexcept TypeError as e:\\n    print(f\"Attempting to modify tuple resulted in error: {e}\")\\n    '"
            ],
            "application/vnd.google.colaboratory.intrinsic+json": {
              "type": "string"
            }
          },
          "metadata": {},
          "execution_count": 23
        }
      ]
    },
    {
      "cell_type": "code",
      "source": [
        "#  Write a function to demonstrate the behavior of mutable and immutable arguments.\n",
        "'''\n",
        "def modify_immutable(x):\n",
        "    x += 1\n",
        "    print(f\"Inside function (immutable): {x}\")\n",
        "\n",
        "def modify_mutable(x):\n",
        "    x.append(4)\n",
        "    print(f\"Inside function (mutable): {x}\")\n",
        "\n",
        "# Demonstrate with an immutable argument (integer)\n",
        "num = 10\n",
        "print(f\"Before function call (immutable): {num}\")\n",
        "modify_immutable(num)\n",
        "print(f\"After function call (immutable): {num}\")\n",
        "\n",
        "print(\"-\" * 20)\n",
        "\n",
        "# Demonstrate with a mutable argument (list)\n",
        "my_list = [1, 2, 3]\n",
        "print(f\"Before function call (mutable): {my_list}\")\n",
        "modify_mutable(my_list)\n",
        "print(f\"After function call (mutable): {my_list}\")\n",
        "'''"
      ],
      "metadata": {
        "colab": {
          "base_uri": "https://localhost:8080/",
          "height": 88
        },
        "id": "e2FN6jbsOMnE",
        "outputId": "cdbe9c80-f97e-4dde-e6ff-ed93c8dd9cbb"
      },
      "execution_count": null,
      "outputs": [
        {
          "output_type": "execute_result",
          "data": {
            "text/plain": [
              "'\\ndef modify_immutable(x):\\n    x += 1\\n    print(f\"Inside function (immutable): {x}\")\\n\\ndef modify_mutable(x):\\n    x.append(4)\\n    print(f\"Inside function (mutable): {x}\")\\n\\n# Demonstrate with an immutable argument (integer)\\nnum = 10\\nprint(f\"Before function call (immutable): {num}\")\\nmodify_immutable(num)\\nprint(f\"After function call (immutable): {num}\")\\n\\nprint(\"-\" * 20)\\n\\n# Demonstrate with a mutable argument (list)\\nmy_list = [1, 2, 3]\\nprint(f\"Before function call (mutable): {my_list}\")\\nmodify_mutable(my_list)\\nprint(f\"After function call (mutable): {my_list}\")\\n'"
            ],
            "application/vnd.google.colaboratory.intrinsic+json": {
              "type": "string"
            }
          },
          "metadata": {},
          "execution_count": 22
        }
      ]
    },
    {
      "cell_type": "code",
      "source": [
        "#  Write a program that performs basic arithmetic operations on two user-input numbers.\n",
        "'''\n",
        "num1=int(input('23'))\n",
        "num2=int(input('3'))\n",
        "num3=num1+num2\n",
        "num4=num1-num2\n",
        "num5=num1*num2\n",
        "num6=num1/num2\n",
        "print(num3,num4,num5,num6)\n",
        "'''"
      ],
      "metadata": {
        "colab": {
          "base_uri": "https://localhost:8080/",
          "height": 36
        },
        "id": "IcUoqmxsOfU-",
        "outputId": "89fa0a7c-2dfa-4fb8-d742-456e20719003"
      },
      "execution_count": null,
      "outputs": [
        {
          "output_type": "execute_result",
          "data": {
            "text/plain": [
              "\"\\nnum1=int(input('23'))\\nnum2=int(input('3'))\\nnum3=num1+num2\\nnum4=num1-num2\\nnum5=num1*num2\\nnum6=num1/num2\\nprint(num3,num4,num5,num6)\\n\""
            ],
            "application/vnd.google.colaboratory.intrinsic+json": {
              "type": "string"
            }
          },
          "metadata": {},
          "execution_count": 17
        }
      ]
    },
    {
      "cell_type": "code",
      "source": [
        "# Write a program to demonstrate the use of logical operators.\n",
        "'''\n",
        "def logical_operators(a, b):\n",
        "    and_result = a and b\n",
        "    or_result = a or b\n",
        "    not_result = not a\n",
        "    return and_result, or_result, not_result\n",
        "    '''"
      ],
      "metadata": {
        "colab": {
          "base_uri": "https://localhost:8080/",
          "height": 36
        },
        "id": "OC6VCzrbPIbf",
        "outputId": "bd588ccd-b437-4769-bf31-c2f8caefd56d"
      },
      "execution_count": null,
      "outputs": [
        {
          "output_type": "execute_result",
          "data": {
            "text/plain": [
              "'\\ndef logical_operators(a, b):\\n    and_result = a and b\\n    or_result = a or b\\n    not_result = not a\\n    return and_result, or_result, not_result\\n    '"
            ],
            "application/vnd.google.colaboratory.intrinsic+json": {
              "type": "string"
            }
          },
          "metadata": {},
          "execution_count": 18
        }
      ]
    },
    {
      "cell_type": "code",
      "source": [
        "# Write a Python program to convert user input from string to integer, float, and boolean types.\n",
        "'''\n",
        "user_input = input(\"Enter a value: \")\n",
        "\n",
        "# Convert to integer\n",
        "try:\n",
        "    int_value = int(user_input)\n",
        "    print(f\"Converted to integer: {int_value} (Type: {type(int_value)})\")\n",
        "except ValueError:\n",
        "    print(f\"Could not convert '{user_input}' to integer.\")\n",
        "\n",
        "# Convert to float\n",
        "try:\n",
        "    float_value = float(user_input)\n",
        "    print(f\"Converted to float: {float_value} (Type: {type(float_value)})\")\n",
        "except ValueError:\n",
        "    print(f\"Could not convert '{user_input}' to float.\")\n",
        "\n",
        "# Convert to boolean (simple example: \"True\" or \"False\")\n",
        "if user_input.lower() == 'true':\n",
        "    bool_value = True\n",
        "    print(f\"Converted to boolean: {bool_value} (Type: {type(bool_value)})\")\n",
        "elif user_input.lower() == 'false':\n",
        "    bool_value = False\n",
        "    print(f\"Converted to boolean: {bool_value} (Type: {type(bool_value)})\")\n",
        "else:\n",
        "    print(f\"Could not convert '{user_input}' to boolean using simple check.\")\n",
        "    '''"
      ],
      "metadata": {
        "colab": {
          "base_uri": "https://localhost:8080/",
          "height": 122
        },
        "id": "FAXNx4xLPaPN",
        "outputId": "851810e6-cc00-43bc-f089-2397d560cc0a"
      },
      "execution_count": null,
      "outputs": [
        {
          "output_type": "execute_result",
          "data": {
            "text/plain": [
              "'\\nuser_input = input(\"Enter a value: \")\\n\\n# Convert to integer\\ntry:\\n    int_value = int(user_input)\\n    print(f\"Converted to integer: {int_value} (Type: {type(int_value)})\")\\nexcept ValueError:\\n    print(f\"Could not convert \\'{user_input}\\' to integer.\")\\n\\n# Convert to float\\ntry:\\n    float_value = float(user_input)\\n    print(f\"Converted to float: {float_value} (Type: {type(float_value)})\")\\nexcept ValueError:\\n    print(f\"Could not convert \\'{user_input}\\' to float.\")\\n\\n# Convert to boolean (simple example: \"True\" or \"False\")\\nif user_input.lower() == \\'true\\':\\n    bool_value = True\\n    print(f\"Converted to boolean: {bool_value} (Type: {type(bool_value)})\")\\nelif user_input.lower() == \\'false\\':\\n    bool_value = False\\n    print(f\"Converted to boolean: {bool_value} (Type: {type(bool_value)})\")\\nelse:\\n    print(f\"Could not convert \\'{user_input}\\' to boolean using simple check.\")\\n    '"
            ],
            "application/vnd.google.colaboratory.intrinsic+json": {
              "type": "string"
            }
          },
          "metadata": {},
          "execution_count": 21
        }
      ]
    },
    {
      "cell_type": "code",
      "source": [
        "# Write code to demonstrate type casting with list elements.\n",
        "'''\n",
        "my_list = [\"1\", \"2\", \"3.5\", \"4\"]\n",
        "\n",
        "# Type casting elements to integers\n",
        "int_list = [int(x) for x in my_list[:2]] # Only convert the first two elements to int\n",
        "print(f\"Original list: {my_list}\")\n",
        "print(f\"List with integer elements: {int_list}\")\n",
        "\n",
        "# Type casting elements to floats\n",
        "float_list = [float(x) for x in my_list]\n",
        "print(f\"List with float elements: {float_list}\")\n",
        "'''"
      ],
      "metadata": {
        "colab": {
          "base_uri": "https://localhost:8080/",
          "height": 70
        },
        "id": "XLv8BehEPkch",
        "outputId": "9ab86999-82af-40ab-bb9a-7dcbed373287"
      },
      "execution_count": null,
      "outputs": [
        {
          "output_type": "execute_result",
          "data": {
            "text/plain": [
              "'\\nmy_list = [\"1\", \"2\", \"3.5\", \"4\"]\\n\\n# Type casting elements to integers\\nint_list = [int(x) for x in my_list[:2]] # Only convert the first two elements to int\\nprint(f\"Original list: {my_list}\")\\nprint(f\"List with integer elements: {int_list}\")\\n\\n# Type casting elements to floats\\nfloat_list = [float(x) for x in my_list]\\nprint(f\"List with float elements: {float_list}\")\\n'"
            ],
            "application/vnd.google.colaboratory.intrinsic+json": {
              "type": "string"
            }
          },
          "metadata": {},
          "execution_count": 28
        }
      ]
    },
    {
      "cell_type": "code",
      "source": [
        "#  Write a program that checks if a number is positive, negative, or zero.\n",
        "'''\n",
        "num = float(input(\"Enter a number: \"))\n",
        "\n",
        "if num > 0:\n",
        "    print(\"Positive number\")\n",
        "elif num == 0:\n",
        "    print(\"Zero\")\n",
        "else:\n",
        "    print(\"Negative number\")\n",
        "    '''"
      ],
      "metadata": {
        "colab": {
          "base_uri": "https://localhost:8080/",
          "height": 36
        },
        "id": "04Vz7TnOQT_o",
        "outputId": "b8cebbc8-9e9a-400b-d12d-b760c879dbc0"
      },
      "execution_count": null,
      "outputs": [
        {
          "output_type": "execute_result",
          "data": {
            "text/plain": [
              "'\\nnum = float(input(\"Enter a number: \"))\\n\\nif num > 0:\\n    print(\"Positive number\")\\nelif num == 0:\\n    print(\"Zero\")\\nelse:\\n    print(\"Negative number\")\\n    '"
            ],
            "application/vnd.google.colaboratory.intrinsic+json": {
              "type": "string"
            }
          },
          "metadata": {},
          "execution_count": 31
        }
      ]
    },
    {
      "cell_type": "code",
      "source": [
        "# Write a for loop to print numbers from 1 to 10.\n",
        "'''\n",
        "for i in range(1, 11):\n",
        "    print(i)\n",
        "    '''"
      ],
      "metadata": {
        "colab": {
          "base_uri": "https://localhost:8080/",
          "height": 36
        },
        "id": "bqD0p7TJRvGz",
        "outputId": "eaa9a8d8-0c30-44d7-8ee0-9783992796e2"
      },
      "execution_count": null,
      "outputs": [
        {
          "output_type": "execute_result",
          "data": {
            "text/plain": [
              "'\\nfor i in range(1, 11):\\n    print(i)\\n    '"
            ],
            "application/vnd.google.colaboratory.intrinsic+json": {
              "type": "string"
            }
          },
          "metadata": {},
          "execution_count": 35
        }
      ]
    },
    {
      "cell_type": "code",
      "source": [
        "#  Write a Python program to find the sum of all even numbers between 1 and 50.\n",
        "'''\n",
        "sum_even = 0\n",
        "for i in range(2, 51, 2):\n",
        "    sum_even += i\n",
        "\n",
        "print(f\"The sum of all even numbers between 1 and 50 is: {sum_even}\")\n",
        "'''"
      ],
      "metadata": {
        "colab": {
          "base_uri": "https://localhost:8080/",
          "height": 36
        },
        "id": "_3YMbXP-SFDq",
        "outputId": "2e245708-ec0f-45b1-bb52-e2244c8b6d53"
      },
      "execution_count": null,
      "outputs": [
        {
          "output_type": "execute_result",
          "data": {
            "text/plain": [
              "'\\nsum_even = 0\\nfor i in range(2, 51, 2):\\n    sum_even += i\\n\\nprint(f\"The sum of all even numbers between 1 and 50 is: {sum_even}\")\\n'"
            ],
            "application/vnd.google.colaboratory.intrinsic+json": {
              "type": "string"
            }
          },
          "metadata": {},
          "execution_count": 38
        }
      ]
    },
    {
      "cell_type": "code",
      "source": [
        "# Write a program to reverse a string using a while loop.\n",
        "'''\n",
        "string = input(\"Enter a string: \")\n",
        "reversed_string = \"\"\n",
        "index = len(string) - 1\n",
        "\n",
        "while index >= 0:\n",
        "    reversed_string += string[index]\n",
        "    index -= 1\n",
        "\n",
        "print(f\"Reversed string: {reversed_string}\")\n",
        "'''"
      ],
      "metadata": {
        "colab": {
          "base_uri": "https://localhost:8080/",
          "height": 53
        },
        "id": "Tsd9E7X1SXic",
        "outputId": "f8749976-9b02-491e-b066-fc16a0e69305"
      },
      "execution_count": null,
      "outputs": [
        {
          "output_type": "execute_result",
          "data": {
            "text/plain": [
              "'\\nstring = input(\"Enter a string: \")\\nreversed_string = \"\"\\nindex = len(string) - 1\\n\\nwhile index >= 0:\\n    reversed_string += string[index]\\n    index -= 1\\n\\nprint(f\"Reversed string: {reversed_string}\")\\n'"
            ],
            "application/vnd.google.colaboratory.intrinsic+json": {
              "type": "string"
            }
          },
          "metadata": {},
          "execution_count": 41
        }
      ]
    },
    {
      "cell_type": "code",
      "source": [
        "# Write a Python program to calculate the factorial of a number provided by the user using a while loop.\n",
        "'''\n",
        "num = int(input(\"Enter a non-negative integer: \"))\n",
        "\n",
        "if num < 0:\n",
        "    print(\"Factorial is not defined for negative numbers\")\n",
        "elif num == 0:\n",
        "    print(\"The factorial of 0 is 1\")\n",
        "else:\n",
        "    factorial = 1\n",
        "    i = 1\n",
        "    while i <= num:\n",
        "        factorial *= i\n",
        "        i += 1\n",
        "    print(f\"The factorial of {num} is {factorial}\")\n",
        "    '''"
      ],
      "metadata": {
        "colab": {
          "base_uri": "https://localhost:8080/",
          "height": 53
        },
        "id": "3lzqLRpsSl3a",
        "outputId": "6e97f38c-98c1-4a51-ba8f-104e6cb9135d"
      },
      "execution_count": null,
      "outputs": [
        {
          "output_type": "execute_result",
          "data": {
            "text/plain": [
              "'\\nnum = int(input(\"Enter a non-negative integer: \"))\\n\\nif num < 0:\\n    print(\"Factorial is not defined for negative numbers\")\\nelif num == 0:\\n    print(\"The factorial of 0 is 1\")\\nelse:\\n    factorial = 1\\n    i = 1\\n    while i <= num:\\n        factorial *= i\\n        i += 1\\n    print(f\"The factorial of {num} is {factorial}\")\\n    '"
            ],
            "application/vnd.google.colaboratory.intrinsic+json": {
              "type": "string"
            }
          },
          "metadata": {},
          "execution_count": 53
        }
      ]
    }
  ]
}